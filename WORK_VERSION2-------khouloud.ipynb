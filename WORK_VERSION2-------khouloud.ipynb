{
 "cells": [
  {
   "cell_type": "markdown",
   "id": "1cf137e0",
   "metadata": {},
   "source": [
    "from mne.time_frequency import psd_welch\n"
   ]
  },
  {
   "cell_type": "code",
   "execution_count": 1,
   "id": "18578979",
   "metadata": {},
   "outputs": [
    {
     "name": "stderr",
     "output_type": "stream",
     "text": [
      "C:\\Users\\Asus\\AppData\\Local\\Temp\\ipykernel_29144\\300748409.py:33: DeprecationWarning: \n",
      "The `fooof` package is being deprecated and replaced by the `specparam` (spectral parameterization) package.\n",
      "This version of `fooof` (1.1) is fully functional, but will not be further updated.\n",
      "New projects are recommended to update to using `specparam` (see Changelog for details).\n",
      "  from fooof import FOOOFGroup\n"
     ]
    }
   ],
   "source": [
    "import os\n",
    "import time\n",
    "import pickle\n",
    "import pandas as pd\n",
    "import numpy as np\n",
    "\n",
    "from scipy import signal\n",
    "from scipy.signal import welch\n",
    "from scipy.integrate import simps\n",
    "from scipy.stats import f_oneway\n",
    "\n",
    "#!pip install scikit-learn==0.20.3\n",
    "from sklearn.model_selection import train_test_split\n",
    "from sklearn.preprocessing import StandardScaler\n",
    "from sklearn.svm import SVC\n",
    "from sklearn.neighbors import KNeighborsClassifier\n",
    "from sklearn.neural_network import MLPClassifier\n",
    "from sklearn import model_selection\n",
    "from sklearn.metrics import classification_report, confusion_matrix\n",
    "import itertools\n",
    "from sklearn.metrics import accuracy_score\n",
    "from sklearn.metrics import f1_score\n",
    "from sklearn.metrics import precision_recall_curve\n",
    "\n",
    "\n",
    "\n",
    "\n",
    "import mne\n",
    "from mne.preprocessing import (ICA, create_eog_epochs, create_ecg_epochs, corrmap)\n",
    "#from mne.time_frequency import psd_welch\n",
    "\n",
    "from mne.decoding import cross_val_multiscore\n",
    "from fooof import FOOOFGroup\n",
    "from fooof.bands import Bands\n",
    "from fooof.analysis import get_band_peak_fg\n",
    "from fooof.plts.spectra import plot_spectrum\n",
    "\n",
    "import matplotlib.pyplot as plt\n",
    "from matplotlib import cm\n",
    "import seaborn as sns\n",
    "%matplotlib inline\n"
   ]
  },
  {
   "cell_type": "markdown",
   "id": "54c8624c",
   "metadata": {},
   "source": [
    "# Load dataset"
   ]
  },
  {
   "cell_type": "markdown",
   "id": "e52e2a8a",
   "metadata": {},
   "source": [
    "The EEG and peripheral physiological signals of 32 participants were recorded as each watched 40 music videos. Participants rated each video in terms of the levels of arousal, valence, dominance, and liking. The data was downsampled (to 128Hz), preprocessed and segmented in pickled Python formats.\n",
    "\n"
   ]
  },
  {
   "cell_type": "code",
   "execution_count": 2,
   "id": "78b3a8ab",
   "metadata": {},
   "outputs": [],
   "source": [
    "# Function to load data from each participant file\n",
    "def read_eeg_signal_from_file(filename):\n",
    "    x = pickle._Unpickler(open(filename, 'rb'))\n",
    "    x.encoding = 'latin1'\n",
    "    p = x.load()\n",
    "    return p"
   ]
  },
  {
   "cell_type": "markdown",
   "id": "570e7ddc",
   "metadata": {},
   "source": [
    "a Python function read_eeg_signal_from_file that's intended to load EEG data from a file using the pickle module. This function appears to unpickle data from a binary file and return the loaded data. The data you're loading likely contains EEG signal information from a participant."
   ]
  },
  {
   "cell_type": "code",
   "execution_count": 3,
   "id": "3ffe035d",
   "metadata": {},
   "outputs": [
    {
     "name": "stdout",
     "output_type": "stream",
     "text": [
      "['01', '02', '03', '04', '05', '06', '07', '08', '09', '10', '11', '12', '13', '14', '15', '16', '17', '18', '19', '20', '21', '22']\n"
     ]
    }
   ],
   "source": [
    "# Load only 22/32 participants with frontal videos recorded\n",
    "files = []\n",
    "for n in range(1, 23): \n",
    "    s = ''\n",
    "    if n < 10:\n",
    "        s += '0'\n",
    "    s += str(n)\n",
    "    files.append(s)\n",
    "print(files)"
   ]
  },
  {
   "cell_type": "code",
   "execution_count": 4,
   "id": "a8e8fd49",
   "metadata": {},
   "outputs": [],
   "source": [
    "import numpy as np\n",
    "\n",
    "labels = []\n",
    "data = []\n",
    "\n",
    "for i in files:\n",
    "    filename = \"pickled/s\" + i + \".pickle\"\n",
    "    \n",
    "    # Open the file in binary mode ('rb')\n",
    "    with open(filename, 'rb') as file:\n",
    "        # Read EEG signal data from the file using the appropriate function\n",
    "        trial = read_eeg_signal_from_file(filename)\n",
    "        labels.append(trial['labels'])\n",
    "        data.append(trial['features'])\n",
    "\n"
   ]
  },
  {
   "cell_type": "code",
   "execution_count": 32,
   "id": "a5c65d55",
   "metadata": {},
   "outputs": [
    {
     "ename": "ValueError",
     "evalue": "cannot reshape array of size 2640 into shape (1280,5,17,32)",
     "output_type": "error",
     "traceback": [
      "\u001b[1;31m---------------------------------------------------------------------------\u001b[0m",
      "\u001b[1;31mValueError\u001b[0m                                Traceback (most recent call last)",
      "\u001b[1;32m~\\AppData\\Local\\Temp\\ipykernel_29144\\4220786679.py\u001b[0m in \u001b[0;36m<module>\u001b[1;34m\u001b[0m\n\u001b[0;32m      2\u001b[0m \u001b[0mlabels\u001b[0m \u001b[1;33m=\u001b[0m \u001b[0mnp\u001b[0m\u001b[1;33m.\u001b[0m\u001b[0marray\u001b[0m\u001b[1;33m(\u001b[0m\u001b[0mlabels\u001b[0m\u001b[1;33m)\u001b[0m\u001b[1;33m\u001b[0m\u001b[1;33m\u001b[0m\u001b[0m\n\u001b[0;32m      3\u001b[0m \u001b[0mlabels\u001b[0m \u001b[1;33m=\u001b[0m \u001b[0mlabels\u001b[0m\u001b[1;33m.\u001b[0m\u001b[0mflatten\u001b[0m\u001b[1;33m(\u001b[0m\u001b[1;33m)\u001b[0m\u001b[1;33m\u001b[0m\u001b[1;33m\u001b[0m\u001b[0m\n\u001b[1;32m----> 4\u001b[1;33m \u001b[0mlabels\u001b[0m \u001b[1;33m=\u001b[0m \u001b[0mlabels\u001b[0m\u001b[1;33m.\u001b[0m\u001b[0mreshape\u001b[0m\u001b[1;33m(\u001b[0m\u001b[1;36m1280\u001b[0m\u001b[1;33m,\u001b[0m \u001b[1;36m5\u001b[0m\u001b[1;33m,\u001b[0m \u001b[1;36m17\u001b[0m\u001b[1;33m,\u001b[0m \u001b[1;36m32\u001b[0m\u001b[1;33m)\u001b[0m \u001b[1;31m#This assumes that you have 880(data) rows and 4 columns(labels) of data.\u001b[0m\u001b[1;33m\u001b[0m\u001b[1;33m\u001b[0m\u001b[0m\n\u001b[0m\u001b[0;32m      5\u001b[0m \u001b[1;33m\u001b[0m\u001b[0m\n\u001b[0;32m      6\u001b[0m \u001b[0mdata\u001b[0m \u001b[1;33m=\u001b[0m \u001b[0mnp\u001b[0m\u001b[1;33m.\u001b[0m\u001b[0marray\u001b[0m\u001b[1;33m(\u001b[0m\u001b[0mdata\u001b[0m\u001b[1;33m)\u001b[0m\u001b[1;33m\u001b[0m\u001b[1;33m\u001b[0m\u001b[0m\n",
      "\u001b[1;31mValueError\u001b[0m: cannot reshape array of size 2640 into shape (1280,5,17,32)"
     ]
    }
   ],
   "source": [
    "# Re-shape arrays into desired shapes as you did before\n",
    "labels = np.array(labels)\n",
    "labels = labels.flatten()\n",
    "labels = labels.reshape(1280, 5, 17, 32) #This assumes that you have 880(data) rows and 4 columns(labels) of data.\n",
    "\n",
    "data = np.array(data)\n",
    "data = data.flatten()\n",
    "data = data.reshape(40960, 85) #This shape implies that you have 880 samples, each with 40 rows and 8064 columns of data.\n"
   ]
  },
  {
   "cell_type": "markdown",
   "id": "319de364",
   "metadata": {},
   "source": [
    "# Explore and pre-process data"
   ]
  },
  {
   "cell_type": "markdown",
   "id": "01733882",
   "metadata": {},
   "source": [
    "## Labels"
   ]
  },
  {
   "cell_type": "markdown",
   "id": "bb2285e9",
   "metadata": {},
   "source": [
    "### Get Valence and Arousal ratings"
   ]
  },
  {
   "cell_type": "markdown",
   "id": "b33551bf",
   "metadata": {},
   "source": [
    "Valence describes the extent to which an emotion is positive or negative, whereas Arousal refers to its intensity, i.e., the strength of the associated emotional state.\n",
    "\n"
   ]
  },
  {
   "cell_type": "code",
   "execution_count": 19,
   "id": "bc0f9cfa",
   "metadata": {},
   "outputs": [
    {
     "name": "stdout",
     "output_type": "stream",
     "text": [
      "          Valence     Arousal\n",
      "count  660.000000  660.000000\n",
      "mean     0.546970    0.562121\n",
      "std      0.498167    0.496502\n",
      "min      0.000000    0.000000\n",
      "25%      0.000000    0.000000\n",
      "50%      1.000000    1.000000\n",
      "75%      1.000000    1.000000\n",
      "max      1.000000    1.000000\n"
     ]
    }
   ],
   "source": [
    "# Convert 'labels' list to a NumPy array\n",
    "labels = np.array(labels)\n",
    "\n",
    "# Reshape the 'labels' array into a 2-D array with two columns (Valence and Arousal)\n",
    "labels = labels.reshape(-1, 4)\n",
    "\n",
    "# Extract Valence and Arousal ratings\n",
    "valence = labels[:, 0]\n",
    "arousal = labels[:, 1]\n",
    "dominance = labels[:, 2]\n",
    "liking = labels[:, 3]\n",
    "# Create a DataFrame\n",
    "df_label_ratings = pd.DataFrame({'Valence': valence, 'Arousal': arousal})\n",
    "\n",
    "# Display statistics\n",
    "print(df_label_ratings.describe())\n"
   ]
  },
  {
   "cell_type": "markdown",
   "id": "bc71b7e6",
   "metadata": {},
   "source": [
    "## Check positive/negative cases"
   ]
  },
  {
   "cell_type": "markdown",
   "id": "b6fab5a9",
   "metadata": {},
   "source": [
    "The combinations of Valence and Arousal can be converted to emotional states: High Arousal Positive Valence (Excited, Happy), Low Arousal Positive Valence (Calm, Relaxed), High Arousal Negative Valence (Angry, Nervous), and Low Arousal Negative Valence (Sad, Bored)."
   ]
  },
  {
   "cell_type": "code",
   "execution_count": 20,
   "id": "00839a3a",
   "metadata": {},
   "outputs": [],
   "source": [
    "# High Arousal Positive Valence dataset\n",
    "df_hahv = df_label_ratings[(df_label_ratings['Valence'] >= np.median(labels[:,0])) & (df_label_ratings['Arousal'] >= np.median(labels[:,1]))]\n",
    "# Low Arousal Positive Valence dataset\n",
    "df_lahv = df_label_ratings[(df_label_ratings['Valence'] >= np.median(labels[:,0])) & (df_label_ratings['Arousal'] < np.median(labels[:,1]))]\n",
    "# High Arousal Negative Valence dataset\n",
    "df_halv = df_label_ratings[(df_label_ratings['Valence'] < np.median(labels[:,0])) & (df_label_ratings['Arousal'] >= np.median(labels[:,1]))]\n",
    "# Low Arousal Negative Valence dataset\n",
    "df_lalv = df_label_ratings[(df_label_ratings['Valence'] < np.median(labels[:,0])) & (df_label_ratings['Arousal'] < np.median(labels[:,1]))]"
   ]
  },
  {
   "cell_type": "code",
   "execution_count": 21,
   "id": "5a27afdd",
   "metadata": {},
   "outputs": [
    {
     "name": "stdout",
     "output_type": "stream",
     "text": [
      "Positive Valence: 361\n",
      "Negative Valence: 299\n",
      "High Arousal: 371\n",
      "Low Arousal: 289\n"
     ]
    }
   ],
   "source": [
    "# Check nummber of trials per each group\n",
    "print(\"Positive Valence:\", str(len(df_hahv) + len(df_lahv)))\n",
    "print(\"Negative Valence:\", str(len(df_halv) + len(df_lalv)))\n",
    "print(\"High Arousal:\", str(len(df_hahv) + len(df_halv)))\n",
    "print(\"Low Arousal:\", str(len(df_lahv) + len(df_lalv)))"
   ]
  },
  {
   "cell_type": "code",
   "execution_count": 22,
   "id": "d9df4d6d",
   "metadata": {},
   "outputs": [
    {
     "name": "stdout",
     "output_type": "stream",
     "text": [
      "High Arousal Positive Valence: 226\n",
      "Low Arousal Positive Valence: 135\n",
      "High Arousal Negative Valence: 145\n",
      "Low Arousal Negative Valence: 154\n"
     ]
    }
   ],
   "source": [
    "# Check nummber of trials per each group\n",
    "print(\"High Arousal Positive Valence:\", str(len(df_hahv)))\n",
    "print(\"Low Arousal Positive Valence:\", str(len(df_lahv)))\n",
    "print(\"High Arousal Negative Valence:\", str(len(df_halv)))\n",
    "print(\"Low Arousal Negative Valence:\", str(len(df_lalv)))"
   ]
  },
  {
   "cell_type": "markdown",
   "id": "3cf9986d",
   "metadata": {},
   "source": [
    "### One hot encoding"
   ]
  },
  {
   "cell_type": "code",
   "execution_count": 23,
   "id": "d4f29928",
   "metadata": {},
   "outputs": [],
   "source": [
    "# Function to check if each trial has positive or negative valence\n",
    "def positive_valence(trial):\n",
    "    return 1 if labels[trial,0] >= np.median(labels[:,0]) else 0 \n",
    "# Function to check if each trial has high or low arousal\n",
    "def high_arousal(trial):\n",
    "    return 1 if labels[trial,1] >= np.median(labels[:,1]) else 0"
   ]
  },
  {
   "cell_type": "code",
   "execution_count": 24,
   "id": "95bfcd8b",
   "metadata": {},
   "outputs": [
    {
     "name": "stdout",
     "output_type": "stream",
     "text": [
      "       Positive Valence  High Arousal\n",
      "count        660.000000    660.000000\n",
      "mean           0.546970      0.562121\n",
      "std            0.498167      0.496502\n",
      "min            0.000000      0.000000\n",
      "25%            0.000000      0.000000\n",
      "50%            1.000000      1.000000\n",
      "75%            1.000000      1.000000\n",
      "max            1.000000      1.000000\n"
     ]
    }
   ],
   "source": [
    "# Initialize an empty list for labels_encoded\n",
    "labels_encoded = []\n",
    "\n",
    "# Iterate over your data points\n",
    "for i in range(len(labels)):\n",
    "    # Obtain the boolean values for \"Positive Valence\" and \"High Arousal\"\n",
    "    positive_valence_value = positive_valence(i)\n",
    "    high_arousal_value = high_arousal(i)\n",
    "\n",
    "    # Append these values to the labels_encoded list as a list with two elements\n",
    "    labels_encoded.append([positive_valence_value, high_arousal_value])\n",
    "\n",
    "# Convert the list to a NumPy array\n",
    "labels_encoded = np.array(labels_encoded)\n",
    "\n",
    "# Create a DataFrame with the reshaped data\n",
    "df_labels = pd.DataFrame(data=labels_encoded, columns=[\"Positive Valence\", \"High Arousal\"])\n",
    "\n",
    "# Print the summary statistics\n",
    "print(df_labels.describe())\n"
   ]
  },
  {
   "cell_type": "code",
   "execution_count": 25,
   "id": "bd9c8674",
   "metadata": {},
   "outputs": [],
   "source": [
    "# Dataset with only Valence column\n",
    "df_valence = df_labels['Positive Valence']\n",
    "# Dataset with only Arousal column\n",
    "df_arousal = df_labels['High Arousal']"
   ]
  },
  {
   "cell_type": "code",
   "execution_count": 26,
   "id": "f5fea3a4",
   "metadata": {},
   "outputs": [
    {
     "name": "stdout",
     "output_type": "stream",
     "text": [
      "Dataset with only Valence column:\n",
      "0      1\n",
      "1      1\n",
      "2      1\n",
      "3      1\n",
      "4      0\n",
      "      ..\n",
      "655    1\n",
      "656    0\n",
      "657    0\n",
      "658    1\n",
      "659    0\n",
      "Name: Positive Valence, Length: 660, dtype: int32\n",
      "\n",
      "Dataset with only Arousal column:\n",
      "0      1\n",
      "1      1\n",
      "2      0\n",
      "3      0\n",
      "4      1\n",
      "      ..\n",
      "655    1\n",
      "656    0\n",
      "657    1\n",
      "658    0\n",
      "659    0\n",
      "Name: High Arousal, Length: 660, dtype: int32\n"
     ]
    }
   ],
   "source": [
    "# Extract the \"Positive Valence\" column into a new dataset\n",
    "df_valence = df_labels['Positive Valence']\n",
    "\n",
    "# Extract the \"High Arousal\" column into a new dataset\n",
    "df_arousal = df_labels['High Arousal']\n",
    "\n",
    "# Display the resulting datasets\n",
    "print(\"Dataset with only Valence column:\")\n",
    "print(df_valence)\n",
    "\n",
    "print(\"\\nDataset with only Arousal column:\")\n",
    "print(df_arousal)\n"
   ]
  },
  {
   "cell_type": "markdown",
   "id": "674b22ae",
   "metadata": {},
   "source": [
    "# EEG data"
   ]
  },
  {
   "cell_type": "markdown",
   "id": "9fa0ffe9",
   "metadata": {},
   "source": [
    "## Separate EEG and non-EEG data"
   ]
  },
  {
   "cell_type": "code",
   "execution_count": 27,
   "id": "c657c0ff",
   "metadata": {},
   "outputs": [],
   "source": [
    "eeg_channels = np.array([\"Fp1\", \"AF3\", \"F3\", \"F7\", \"FC5\", \"FC1\", \"C3\", \"T7\", \"CP5\", \"CP1\", \"P3\", \"P7\", \"PO3\", \"O1\", \"Oz\", \"Pz\", \"Fp2\", \"AF4\", \"Fz\", \"F4\", \"F8\", \"FC6\", \"FC2\", \"Cz\", \"C4\", \"T8\", \"CP6\", \"CP2\", \"P4\", \"P8\", \"PO4\", \"O2\"])\n",
    "peripheral_channels = np.array([\"hEOG\", \"vEOG\", \"zEMG\", \"tEMG\", \"GSR\", \"Respiration belt\", \"Plethysmograph\", \"Temperature\"])\n"
   ]
  },
  {
   "cell_type": "code",
   "execution_count": 28,
   "id": "ff042756",
   "metadata": {},
   "outputs": [],
   "source": [
    "eeg_data = []\n"
   ]
  },
  {
   "cell_type": "code",
   "execution_count": 29,
   "id": "0d487d37",
   "metadata": {},
   "outputs": [],
   "source": [
    "peripheral_data = []\n"
   ]
  },
  {
   "cell_type": "markdown",
   "id": "b1dc2640",
   "metadata": {},
   "source": [
    "# Train-test split and feature scaling"
   ]
  },
  {
   "cell_type": "code",
   "execution_count": 112,
   "id": "d10ea9a3",
   "metadata": {},
   "outputs": [],
   "source": [
    "# Split the data into training/testing sets\n",
    "def split_train_test(x, y):\n",
    "  x_train, x_test, y_train, y_test = train_test_split(x, y, test_size=0.20, random_state=42)\n",
    "  return x_train, x_test, y_train, y_test"
   ]
  },
  {
   "cell_type": "code",
   "execution_count": 113,
   "id": "f9798a82",
   "metadata": {},
   "outputs": [],
   "source": [
    "# Feature scaling\n",
    "def feature_scaling(train, test):\n",
    "  sc = StandardScaler()\n",
    "  train = sc.fit_transform(train)\n",
    "  test = sc.transform(test)\n",
    "  return train, test"
   ]
  },
  {
   "cell_type": "markdown",
   "id": "e8f150a7",
   "metadata": {},
   "source": [
    "# Cross-validation to select classifier"
   ]
  },
  {
   "cell_type": "markdown",
   "id": "b2f01ba4",
   "metadata": {},
   "source": [
    "Cross-validation is a technique used to assess the performance of a machine learning model while minimizing problems like overfitting or underfitting. It helps in selecting the best model by partitioning the dataset into training and testing subsets multiple times. Each partition is used for both training and testing to evaluate the model's performance"
   ]
  },
  {
   "cell_type": "code",
   "execution_count": 114,
   "id": "804a2010",
   "metadata": {},
   "outputs": [],
   "source": [
    "band_names = np.array([\"delta\", \"theta\", \"alpha\"])\n",
    "channel_names = np.array([\"left\", \"frontal\", \"right\", \"central\", \"parietal\", \"occipital\"])\n",
    "label_names = np.array([\"valence\", \"arousal\"])"
   ]
  },
  {
   "cell_type": "code",
   "execution_count": 115,
   "id": "4164700e",
   "metadata": {},
   "outputs": [],
   "source": [
    "# Testing different kernels (linear, sigmoid, rbf, poly) to select the most optimal one\n",
    "clf_svm = SVC(kernel = 'linear', random_state = 20, probability=True)"
   ]
  },
  {
   "cell_type": "code",
   "execution_count": 116,
   "id": "49abaf1b",
   "metadata": {},
   "outputs": [],
   "source": [
    "# Testing different k (odd) numbers, algorithm (auto, ball_tree, kd_tree) and weight (uniform, distance) to select the most optimal one\n",
    "clf_knn = KNeighborsClassifier(n_neighbors=4, weights='distance', algorithm='auto')"
   ]
  },
  {
   "cell_type": "code",
   "execution_count": 117,
   "id": "aa9f071b",
   "metadata": {},
   "outputs": [],
   "source": [
    "models = []\n",
    "models.append(('SVM', clf_svm))\n",
    "models.append(('k-NN', clf_knn))\n"
   ]
  },
  {
   "cell_type": "code",
   "execution_count": 118,
   "id": "454a41d1",
   "metadata": {},
   "outputs": [],
   "source": [
    "import time\n",
    "def cross_validate_clf(df_x, df_y, scoring):\n",
    "  # Train-test split \n",
    "  x_train, x_test, y_train, y_test = split_train_test(df_x, df_y)\n",
    "  x_train, x_test = feature_scaling(x_train, x_test)\n",
    "\n",
    "  names = []\n",
    "  means = []\n",
    "  stds = []\n",
    "  times = []\n",
    "\n",
    "  # Apply CV\n",
    "  for name, model in models:\n",
    "      start_time = time.time()\n",
    "      kfold = model_selection.KFold(n_splits=5)\n",
    "      cv_results = model_selection.cross_val_score(model, x_train, y_train, cv=kfold, scoring=scoring)\n",
    "      t = (time.time() - start_time)\n",
    "      times.append(t)\n",
    "      means.append(cv_results.mean())\n",
    "      stds.append(cv_results.std())\n",
    "      names.append(name)\n",
    "\n",
    "  return names, means, stds, times"
   ]
  },
  {
   "cell_type": "markdown",
   "id": "af756857",
   "metadata": {},
   "source": [
    "### Arousal - Accuracy"
   ]
  },
  {
   "cell_type": "code",
   "execution_count": 123,
   "id": "174d41fc",
   "metadata": {
    "scrolled": false
   },
   "outputs": [
    {
     "ename": "ValueError",
     "evalue": "Found input variables with inconsistent numbers of samples: [0, 660]",
     "output_type": "error",
     "traceback": [
      "\u001b[1;31m---------------------------------------------------------------------------\u001b[0m",
      "\u001b[1;31mValueError\u001b[0m                                Traceback (most recent call last)",
      "\u001b[1;32m~\\AppData\\Local\\Temp\\ipykernel_3304\\4197917806.py\u001b[0m in \u001b[0;36m<module>\u001b[1;34m\u001b[0m\n\u001b[1;32m----> 1\u001b[1;33m \u001b[0mcross_validate_clf\u001b[0m\u001b[1;33m(\u001b[0m\u001b[0meeg_data\u001b[0m\u001b[1;33m,\u001b[0m \u001b[0mdf_arousal\u001b[0m\u001b[1;33m,\u001b[0m \u001b[1;34m'accuracy'\u001b[0m\u001b[1;33m)\u001b[0m\u001b[1;33m\u001b[0m\u001b[1;33m\u001b[0m\u001b[0m\n\u001b[0m",
      "\u001b[1;32m~\\AppData\\Local\\Temp\\ipykernel_3304\\2088491815.py\u001b[0m in \u001b[0;36mcross_validate_clf\u001b[1;34m(df_x, df_y, scoring)\u001b[0m\n\u001b[0;32m      2\u001b[0m \u001b[1;32mdef\u001b[0m \u001b[0mcross_validate_clf\u001b[0m\u001b[1;33m(\u001b[0m\u001b[0mdf_x\u001b[0m\u001b[1;33m,\u001b[0m \u001b[0mdf_y\u001b[0m\u001b[1;33m,\u001b[0m \u001b[0mscoring\u001b[0m\u001b[1;33m)\u001b[0m\u001b[1;33m:\u001b[0m\u001b[1;33m\u001b[0m\u001b[1;33m\u001b[0m\u001b[0m\n\u001b[0;32m      3\u001b[0m   \u001b[1;31m# Train-test split\u001b[0m\u001b[1;33m\u001b[0m\u001b[1;33m\u001b[0m\u001b[0m\n\u001b[1;32m----> 4\u001b[1;33m   \u001b[0mx_train\u001b[0m\u001b[1;33m,\u001b[0m \u001b[0mx_test\u001b[0m\u001b[1;33m,\u001b[0m \u001b[0my_train\u001b[0m\u001b[1;33m,\u001b[0m \u001b[0my_test\u001b[0m \u001b[1;33m=\u001b[0m \u001b[0msplit_train_test\u001b[0m\u001b[1;33m(\u001b[0m\u001b[0mdf_x\u001b[0m\u001b[1;33m,\u001b[0m \u001b[0mdf_y\u001b[0m\u001b[1;33m)\u001b[0m\u001b[1;33m\u001b[0m\u001b[1;33m\u001b[0m\u001b[0m\n\u001b[0m\u001b[0;32m      5\u001b[0m   \u001b[1;31m# Feature scaling\u001b[0m\u001b[1;33m\u001b[0m\u001b[1;33m\u001b[0m\u001b[0m\n\u001b[0;32m      6\u001b[0m   \u001b[0mx_train\u001b[0m\u001b[1;33m,\u001b[0m \u001b[0mx_test\u001b[0m \u001b[1;33m=\u001b[0m \u001b[0mfeature_scaling\u001b[0m\u001b[1;33m(\u001b[0m\u001b[0mx_train\u001b[0m\u001b[1;33m,\u001b[0m \u001b[0mx_test\u001b[0m\u001b[1;33m)\u001b[0m\u001b[1;33m\u001b[0m\u001b[1;33m\u001b[0m\u001b[0m\n",
      "\u001b[1;32m~\\AppData\\Local\\Temp\\ipykernel_3304\\3860125925.py\u001b[0m in \u001b[0;36msplit_train_test\u001b[1;34m(x, y)\u001b[0m\n\u001b[0;32m      1\u001b[0m \u001b[1;31m# Split the data into training/testing sets\u001b[0m\u001b[1;33m\u001b[0m\u001b[1;33m\u001b[0m\u001b[0m\n\u001b[0;32m      2\u001b[0m \u001b[1;32mdef\u001b[0m \u001b[0msplit_train_test\u001b[0m\u001b[1;33m(\u001b[0m\u001b[0mx\u001b[0m\u001b[1;33m,\u001b[0m \u001b[0my\u001b[0m\u001b[1;33m)\u001b[0m\u001b[1;33m:\u001b[0m\u001b[1;33m\u001b[0m\u001b[1;33m\u001b[0m\u001b[0m\n\u001b[1;32m----> 3\u001b[1;33m   \u001b[0mx_train\u001b[0m\u001b[1;33m,\u001b[0m \u001b[0mx_test\u001b[0m\u001b[1;33m,\u001b[0m \u001b[0my_train\u001b[0m\u001b[1;33m,\u001b[0m \u001b[0my_test\u001b[0m \u001b[1;33m=\u001b[0m \u001b[0mtrain_test_split\u001b[0m\u001b[1;33m(\u001b[0m\u001b[0mx\u001b[0m\u001b[1;33m,\u001b[0m \u001b[0my\u001b[0m\u001b[1;33m,\u001b[0m \u001b[0mtest_size\u001b[0m\u001b[1;33m=\u001b[0m\u001b[1;36m0.20\u001b[0m\u001b[1;33m,\u001b[0m \u001b[0mrandom_state\u001b[0m\u001b[1;33m=\u001b[0m\u001b[1;36m42\u001b[0m\u001b[1;33m)\u001b[0m\u001b[1;33m\u001b[0m\u001b[1;33m\u001b[0m\u001b[0m\n\u001b[0m\u001b[0;32m      4\u001b[0m   \u001b[1;32mreturn\u001b[0m \u001b[0mx_train\u001b[0m\u001b[1;33m,\u001b[0m \u001b[0mx_test\u001b[0m\u001b[1;33m,\u001b[0m \u001b[0my_train\u001b[0m\u001b[1;33m,\u001b[0m \u001b[0my_test\u001b[0m\u001b[1;33m\u001b[0m\u001b[1;33m\u001b[0m\u001b[0m\n",
      "\u001b[1;32m~\\anaconda3\\lib\\site-packages\\sklearn\\utils\\_param_validation.py\u001b[0m in \u001b[0;36mwrapper\u001b[1;34m(*args, **kwargs)\u001b[0m\n\u001b[0;32m    212\u001b[0m                     )\n\u001b[0;32m    213\u001b[0m                 ):\n\u001b[1;32m--> 214\u001b[1;33m                     \u001b[1;32mreturn\u001b[0m \u001b[0mfunc\u001b[0m\u001b[1;33m(\u001b[0m\u001b[1;33m*\u001b[0m\u001b[0margs\u001b[0m\u001b[1;33m,\u001b[0m \u001b[1;33m**\u001b[0m\u001b[0mkwargs\u001b[0m\u001b[1;33m)\u001b[0m\u001b[1;33m\u001b[0m\u001b[1;33m\u001b[0m\u001b[0m\n\u001b[0m\u001b[0;32m    215\u001b[0m             \u001b[1;32mexcept\u001b[0m \u001b[0mInvalidParameterError\u001b[0m \u001b[1;32mas\u001b[0m \u001b[0me\u001b[0m\u001b[1;33m:\u001b[0m\u001b[1;33m\u001b[0m\u001b[1;33m\u001b[0m\u001b[0m\n\u001b[0;32m    216\u001b[0m                 \u001b[1;31m# When the function is just a wrapper around an estimator, we allow\u001b[0m\u001b[1;33m\u001b[0m\u001b[1;33m\u001b[0m\u001b[0m\n",
      "\u001b[1;32m~\\anaconda3\\lib\\site-packages\\sklearn\\model_selection\\_split.py\u001b[0m in \u001b[0;36mtrain_test_split\u001b[1;34m(test_size, train_size, random_state, shuffle, stratify, *arrays)\u001b[0m\n\u001b[0;32m   2644\u001b[0m         \u001b[1;32mraise\u001b[0m \u001b[0mValueError\u001b[0m\u001b[1;33m(\u001b[0m\u001b[1;34m\"At least one array required as input\"\u001b[0m\u001b[1;33m)\u001b[0m\u001b[1;33m\u001b[0m\u001b[1;33m\u001b[0m\u001b[0m\n\u001b[0;32m   2645\u001b[0m \u001b[1;33m\u001b[0m\u001b[0m\n\u001b[1;32m-> 2646\u001b[1;33m     \u001b[0marrays\u001b[0m \u001b[1;33m=\u001b[0m \u001b[0mindexable\u001b[0m\u001b[1;33m(\u001b[0m\u001b[1;33m*\u001b[0m\u001b[0marrays\u001b[0m\u001b[1;33m)\u001b[0m\u001b[1;33m\u001b[0m\u001b[1;33m\u001b[0m\u001b[0m\n\u001b[0m\u001b[0;32m   2647\u001b[0m \u001b[1;33m\u001b[0m\u001b[0m\n\u001b[0;32m   2648\u001b[0m     \u001b[0mn_samples\u001b[0m \u001b[1;33m=\u001b[0m \u001b[0m_num_samples\u001b[0m\u001b[1;33m(\u001b[0m\u001b[0marrays\u001b[0m\u001b[1;33m[\u001b[0m\u001b[1;36m0\u001b[0m\u001b[1;33m]\u001b[0m\u001b[1;33m)\u001b[0m\u001b[1;33m\u001b[0m\u001b[1;33m\u001b[0m\u001b[0m\n",
      "\u001b[1;32m~\\anaconda3\\lib\\site-packages\\sklearn\\utils\\validation.py\u001b[0m in \u001b[0;36mindexable\u001b[1;34m(*iterables)\u001b[0m\n\u001b[0;32m    451\u001b[0m \u001b[1;33m\u001b[0m\u001b[0m\n\u001b[0;32m    452\u001b[0m     \u001b[0mresult\u001b[0m \u001b[1;33m=\u001b[0m \u001b[1;33m[\u001b[0m\u001b[0m_make_indexable\u001b[0m\u001b[1;33m(\u001b[0m\u001b[0mX\u001b[0m\u001b[1;33m)\u001b[0m \u001b[1;32mfor\u001b[0m \u001b[0mX\u001b[0m \u001b[1;32min\u001b[0m \u001b[0miterables\u001b[0m\u001b[1;33m]\u001b[0m\u001b[1;33m\u001b[0m\u001b[1;33m\u001b[0m\u001b[0m\n\u001b[1;32m--> 453\u001b[1;33m     \u001b[0mcheck_consistent_length\u001b[0m\u001b[1;33m(\u001b[0m\u001b[1;33m*\u001b[0m\u001b[0mresult\u001b[0m\u001b[1;33m)\u001b[0m\u001b[1;33m\u001b[0m\u001b[1;33m\u001b[0m\u001b[0m\n\u001b[0m\u001b[0;32m    454\u001b[0m     \u001b[1;32mreturn\u001b[0m \u001b[0mresult\u001b[0m\u001b[1;33m\u001b[0m\u001b[1;33m\u001b[0m\u001b[0m\n\u001b[0;32m    455\u001b[0m \u001b[1;33m\u001b[0m\u001b[0m\n",
      "\u001b[1;32m~\\anaconda3\\lib\\site-packages\\sklearn\\utils\\validation.py\u001b[0m in \u001b[0;36mcheck_consistent_length\u001b[1;34m(*arrays)\u001b[0m\n\u001b[0;32m    405\u001b[0m     \u001b[0muniques\u001b[0m \u001b[1;33m=\u001b[0m \u001b[0mnp\u001b[0m\u001b[1;33m.\u001b[0m\u001b[0munique\u001b[0m\u001b[1;33m(\u001b[0m\u001b[0mlengths\u001b[0m\u001b[1;33m)\u001b[0m\u001b[1;33m\u001b[0m\u001b[1;33m\u001b[0m\u001b[0m\n\u001b[0;32m    406\u001b[0m     \u001b[1;32mif\u001b[0m \u001b[0mlen\u001b[0m\u001b[1;33m(\u001b[0m\u001b[0muniques\u001b[0m\u001b[1;33m)\u001b[0m \u001b[1;33m>\u001b[0m \u001b[1;36m1\u001b[0m\u001b[1;33m:\u001b[0m\u001b[1;33m\u001b[0m\u001b[1;33m\u001b[0m\u001b[0m\n\u001b[1;32m--> 407\u001b[1;33m         raise ValueError(\n\u001b[0m\u001b[0;32m    408\u001b[0m             \u001b[1;34m\"Found input variables with inconsistent numbers of samples: %r\"\u001b[0m\u001b[1;33m\u001b[0m\u001b[1;33m\u001b[0m\u001b[0m\n\u001b[0;32m    409\u001b[0m             \u001b[1;33m%\u001b[0m \u001b[1;33m[\u001b[0m\u001b[0mint\u001b[0m\u001b[1;33m(\u001b[0m\u001b[0ml\u001b[0m\u001b[1;33m)\u001b[0m \u001b[1;32mfor\u001b[0m \u001b[0ml\u001b[0m \u001b[1;32min\u001b[0m \u001b[0mlengths\u001b[0m\u001b[1;33m]\u001b[0m\u001b[1;33m\u001b[0m\u001b[1;33m\u001b[0m\u001b[0m\n",
      "\u001b[1;31mValueError\u001b[0m: Found input variables with inconsistent numbers of samples: [0, 660]"
     ]
    }
   ],
   "source": [
    "cross_validate_clf(eeg_data, df_arousal, 'accuracy')"
   ]
  },
  {
   "cell_type": "markdown",
   "id": "80f1367f",
   "metadata": {},
   "source": [
    "### Arousal - F1"
   ]
  },
  {
   "cell_type": "code",
   "execution_count": 198,
   "id": "389b18f6",
   "metadata": {},
   "outputs": [
    {
     "name": "stderr",
     "output_type": "stream",
     "text": [
      "C:\\Users\\Asus\\anaconda3\\lib\\site-packages\\sklearn\\neural_network\\_multilayer_perceptron.py:692: ConvergenceWarning: Stochastic Optimizer: Maximum iterations (400) reached and the optimization hasn't converged yet.\n",
      "  warnings.warn(\n"
     ]
    },
    {
     "data": {
      "text/plain": [
       "(['SVM', 'k-NN', 'MLP'],\n",
       " [0.6283524101895143, 0.5388054971905903, 0.6035878460313744],\n",
       " [0.06313773254804415, 0.06275980845022838, 0.07272418156535569],\n",
       " [0.9837913513183594, 0.027692794799804688, 10.20068907737732])"
      ]
     },
     "execution_count": 198,
     "metadata": {},
     "output_type": "execute_result"
    }
   ],
   "source": [
    "cross_validate_clf(eeg_band_arr, df_arousal, 'f1')"
   ]
  },
  {
   "cell_type": "markdown",
   "id": "a559556d",
   "metadata": {},
   "source": [
    "### Valence - Accuracy\n"
   ]
  },
  {
   "cell_type": "code",
   "execution_count": 199,
   "id": "80c40b06",
   "metadata": {},
   "outputs": [
    {
     "data": {
      "text/plain": [
       "(['SVM', 'k-NN', 'MLP'],\n",
       " [0.5597061803444783, 0.5881661600810537, 0.5782168186423505],\n",
       " [0.02458061975615945, 0.03742596910454223, 0.037068223148220066],\n",
       " [1.289656639099121, 0.02600240707397461, 9.236920356750488])"
      ]
     },
     "execution_count": 199,
     "metadata": {},
     "output_type": "execute_result"
    }
   ],
   "source": [
    "cross_validate_clf(eeg_band_arr, df_valence, 'accuracy')"
   ]
  },
  {
   "cell_type": "markdown",
   "id": "f9f63457",
   "metadata": {},
   "source": [
    "### Valence - F1"
   ]
  },
  {
   "cell_type": "code",
   "execution_count": 200,
   "id": "cb2ca90b",
   "metadata": {},
   "outputs": [
    {
     "data": {
      "text/plain": [
       "(['SVM', 'k-NN', 'MLP'],\n",
       " [0.5822429739421733, 0.6042545507633911, 0.5886140735265648],\n",
       " [0.03548302115448638, 0.04723083489893027, 0.07137441667247266],\n",
       " [0.9256598949432373, 0.025663137435913086, 7.70525860786438])"
      ]
     },
     "execution_count": 200,
     "metadata": {},
     "output_type": "execute_result"
    }
   ],
   "source": [
    "cross_validate_clf(eeg_band_arr, df_valence, 'f1')"
   ]
  },
  {
   "cell_type": "markdown",
   "id": "b2cb543b",
   "metadata": {},
   "source": [
    "# Classification"
   ]
  },
  {
   "cell_type": "markdown",
   "id": "87c3c812",
   "metadata": {},
   "source": [
    "### Functions to run classifiers"
   ]
  },
  {
   "cell_type": "code",
   "execution_count": 201,
   "id": "9927a9df",
   "metadata": {},
   "outputs": [],
   "source": [
    "def run_clf_cv(band, channel, label, clf):\n",
    "  if (band == \"delta\"):\n",
    "    df_x = df_delta\n",
    "  elif (band == \"theta\"):\n",
    "    df_x = df_theta\n",
    "  elif (band == \"alpha\"):\n",
    "    df_x = df_alpha\n",
    "  \n",
    "\n",
    "  if (channel == \"left\"):\n",
    "    df_x = df_x[left]\n",
    "  elif (channel == \"right\"):\n",
    "    df_x = df_x[right]\n",
    "  elif (channel == \"frontal\"):\n",
    "    df_x = df_x[frontal]\n",
    "  elif (channel == \"central\"):\n",
    "    df_x = df_x[central]\n",
    "  elif (channel == \"parietal\"):\n",
    "    df_x = df_x[parietal]\n",
    "  elif (channel == \"occipital\"):\n",
    "    df_x = df_x[occipital]\n",
    "\n",
    "  df_y = df_arousal if (label == \"arousal\") else df_valence\n",
    "\n",
    "  # Train-test split\n",
    "  x_train, x_test, y_train, y_test = split_train_test(df_x, df_y)\n",
    "  \n",
    "  # Apply CV\n",
    "  x_for_kfold = np.array(x_train)            \n",
    "  y_for_kfold = np.array(y_train)\n",
    "  kfold = model_selection.KFold(n_splits=5)\n",
    "\n",
    "  for i, j in kfold.split(x_for_kfold):\n",
    "   x_train2, x_test2 = x_for_kfold[i], x_for_kfold[j]\n",
    "   y_train2, y_test2 = y_for_kfold[i], y_for_kfold[j]\n",
    "  \n",
    "  # Feature scaling\n",
    "  x_train2, x_test2 = feature_scaling(x_train2, x_test2)\n",
    "\n",
    "  if (clf == \"svm\"):\n",
    "    clf_svm.fit(x_train2, y_train2)\n",
    "    y_predict = clf_svm.predict(x_test2)\n",
    "  elif (clf == \"knn\"):\n",
    "    clf_knn.fit(x_train2, y_train2)\n",
    "    y_predict = clf_knn.predict(x_test2)\n",
    "  elif (clf == \"mlp\"):\n",
    "    clf_mlp.fit(x_train2, y_train2)\n",
    "    y_predict = clf_mlp.predict(x_test2)\n",
    "\n",
    "  return y_test2, y_predict"
   ]
  },
  {
   "cell_type": "code",
   "execution_count": 202,
   "id": "6967ccfb",
   "metadata": {},
   "outputs": [],
   "source": [
    "def get_accuracy(band, channel, label, clf):\n",
    "  y_test2, y_predict = run_clf_cv(band, channel, label, clf)\n",
    "  return np.round(accuracy_score(y_test2, y_predict)*100,2)"
   ]
  },
  {
   "cell_type": "code",
   "execution_count": 203,
   "id": "9cce43b9",
   "metadata": {},
   "outputs": [],
   "source": [
    "def print_accuracy(label, clf):\n",
    "  arr = []\n",
    "  for i in range (len(band_names)):\n",
    "    for j in range (len(channel_names)): \n",
    "      arr.append(get_accuracy(band_names[i], channel_names[j], label, clf))\n",
    "  arr = np.reshape(arr, (3,6))\n",
    "  df = pd.DataFrame(data = arr, index=band_names, columns=channel_names)\n",
    "\n",
    "  print(\"Top 3 EEG regions with highest scores\")\n",
    "  print(df.apply(lambda s: s.abs()).max().nlargest(3))\n",
    "  print()\n",
    "  print(\"Top 2 bands with highest scores\")\n",
    "  print(df.apply(lambda s: s.abs()).max(axis=1).nlargest(2))\n",
    "  print()\n",
    "  print(\"EEG region with highest scores per each band\")\n",
    "  print(df.idxmax(axis=1))\n",
    "  print()\n",
    "  print(\"Band with highest scores per each EEG region\")\n",
    "  print(df.idxmax())\n",
    "  print()\n",
    "  print(df)"
   ]
  },
  {
   "cell_type": "code",
   "execution_count": 204,
   "id": "731c28ee",
   "metadata": {},
   "outputs": [],
   "source": [
    "def get_f1(band, channel, label, clf):\n",
    "  y_test2, y_predict = run_clf_cv(band, channel, label, clf)\n",
    "  return np.round(f1_score(y_test2, y_predict)*100,2)"
   ]
  },
  {
   "cell_type": "code",
   "execution_count": 205,
   "id": "9b72b105",
   "metadata": {},
   "outputs": [],
   "source": [
    "def print_f1(label, clf):\n",
    "  arr = []\n",
    "  for i in range (len(band_names)):\n",
    "    for j in range (len(channel_names)): \n",
    "      arr.append(get_f1(band_names[i], channel_names[j], label, clf))\n",
    "  arr = np.reshape(arr, (3,6))\n",
    "  df = pd.DataFrame(data = arr, index=band_names, columns=channel_names)\n",
    "\n",
    "  print(\"Top 3 EEG regions with highest scores\")\n",
    "  print(df.apply(lambda s: s.abs()).max().nlargest(3))\n",
    "  print()\n",
    "  print(\"Top 2 bands with highest scores\")\n",
    "  print(df.apply(lambda s: s.abs()).max(axis=1).nlargest(2))\n",
    "  print()\n",
    "  print(\"EEG region with highest scores per each band\")\n",
    "  print(df.idxmax(axis=1))\n",
    "  print()\n",
    "  print(\"Band with highest scores per each EEG regions\")\n",
    "  print(df.idxmax())\n",
    "  print()\n",
    "  print(df)"
   ]
  },
  {
   "cell_type": "code",
   "execution_count": 206,
   "id": "8f7c1a8f",
   "metadata": {},
   "outputs": [],
   "source": [
    "def plot_cm(band, channel, label, clf):\n",
    "  y_test2, y_predict = run_clf_cv(band, channel, label, clf)\n",
    "  cm = confusion_matrix(y_test2, y_predict)\n",
    "  print(cm)\n",
    "  cr = classification_report(y_test2, y_predict)\n",
    "  print(cr)\n",
    "\n",
    "  plt.figure()\n",
    "  plt.imshow(cm, interpolation='nearest', cmap=plt.cm.Blues)\n",
    "  plt.colorbar()\n",
    "\n",
    "  if (label == \"valence\"):\n",
    "    classes = df_valence.unique().tolist()\n",
    "  if (label == \"arousal\"):\n",
    "    classes = df_arousal.unique().tolist()\n",
    "\n",
    "  tick_marks = np.arange(len(classes))\n",
    "  plt.xticks(tick_marks, classes, rotation=45)\n",
    "  plt.yticks(tick_marks, classes)\n",
    "\n",
    "  thresh = cm.max() / 2.\n",
    "  for i, j in itertools.product(range(cm.shape[0]), range(cm.shape[1])):\n",
    "      plt.text(j, i, format(cm[i, j], 'd'),\n",
    "               horizontalalignment=\"center\",\n",
    "               color=\"white\" if cm[i, j] > thresh else \"black\")\n",
    "\n",
    "  plt.tight_layout()\n",
    "  plt.ylabel('True label')\n",
    "  plt.xlabel('Predicted label')\n"
   ]
  },
  {
   "cell_type": "markdown",
   "id": "f7c37533",
   "metadata": {},
   "source": [
    "## Accuracy results"
   ]
  },
  {
   "cell_type": "markdown",
   "id": "c976e897",
   "metadata": {},
   "source": [
    "### Valence"
   ]
  },
  {
   "cell_type": "code",
   "execution_count": 207,
   "id": "8e80e398",
   "metadata": {},
   "outputs": [
    {
     "name": "stdout",
     "output_type": "stream",
     "text": [
      "Top 3 EEG regions with highest scores\n",
      "central    64.29\n",
      "right      63.57\n",
      "frontal    60.71\n",
      "dtype: float64\n",
      "\n",
      "Top 2 bands with highest scores\n",
      "alpha    64.29\n",
      "theta    63.57\n",
      "dtype: float64\n",
      "\n",
      "EEG region with highest scores per each band\n",
      "delta    central\n",
      "theta      right\n",
      "alpha    central\n",
      "dtype: object\n",
      "\n",
      "Band with highest scores per each EEG region\n",
      "left         alpha\n",
      "frontal      theta\n",
      "right        theta\n",
      "central      alpha\n",
      "parietal     theta\n",
      "occipital    alpha\n",
      "dtype: object\n",
      "\n",
      "        left  frontal  right  central  parietal  occipital\n",
      "delta  56.43    56.43  55.00    60.00     55.71      55.71\n",
      "theta  56.43    60.71  63.57    62.14     60.71      59.29\n",
      "alpha  59.29    57.14  57.14    64.29     59.29      60.00\n"
     ]
    }
   ],
   "source": [
    "# Only use k-NN in case of Valence after CV\n",
    "print_accuracy('valence', 'knn')"
   ]
  },
  {
   "cell_type": "markdown",
   "id": "e475784b",
   "metadata": {},
   "source": [
    "### Arousal"
   ]
  },
  {
   "cell_type": "code",
   "execution_count": 208,
   "id": "be5adc54",
   "metadata": {},
   "outputs": [
    {
     "name": "stdout",
     "output_type": "stream",
     "text": [
      "Top 3 EEG regions with highest scores\n",
      "parietal    60.00\n",
      "frontal     58.57\n",
      "central     54.29\n",
      "dtype: float64\n",
      "\n",
      "Top 2 bands with highest scores\n",
      "alpha    60.00\n",
      "theta    59.29\n",
      "dtype: float64\n",
      "\n",
      "EEG region with highest scores per each band\n",
      "delta    parietal\n",
      "theta    parietal\n",
      "alpha    parietal\n",
      "dtype: object\n",
      "\n",
      "Band with highest scores per each EEG region\n",
      "left         theta\n",
      "frontal      theta\n",
      "right        delta\n",
      "central      theta\n",
      "parietal     alpha\n",
      "occipital    theta\n",
      "dtype: object\n",
      "\n",
      "        left  frontal  right  central  parietal  occipital\n",
      "delta  49.29    55.00  52.86    53.57     58.57      49.29\n",
      "theta  50.71    58.57  51.43    54.29     59.29      52.14\n",
      "alpha  49.29    58.57  52.14    54.29     60.00      52.14\n"
     ]
    }
   ],
   "source": [
    "# Only use MLP in case of Arousal after CV\n",
    "print_accuracy('arousal', 'mlp')"
   ]
  },
  {
   "cell_type": "markdown",
   "id": "336a6195",
   "metadata": {},
   "source": [
    "## F1 score results"
   ]
  },
  {
   "cell_type": "markdown",
   "id": "2f527bad",
   "metadata": {},
   "source": [
    "### Valence"
   ]
  },
  {
   "cell_type": "code",
   "execution_count": 209,
   "id": "c55f24c7",
   "metadata": {},
   "outputs": [
    {
     "name": "stdout",
     "output_type": "stream",
     "text": [
      "Top 3 EEG regions with highest scores\n",
      "right       70.52\n",
      "central     69.14\n",
      "parietal    67.46\n",
      "dtype: float64\n",
      "\n",
      "Top 2 bands with highest scores\n",
      "theta    70.52\n",
      "alpha    69.14\n",
      "dtype: float64\n",
      "\n",
      "EEG region with highest scores per each band\n",
      "delta    central\n",
      "theta      right\n",
      "alpha    central\n",
      "dtype: object\n",
      "\n",
      "Band with highest scores per each EEG regions\n",
      "left         alpha\n",
      "frontal      theta\n",
      "right        theta\n",
      "central      alpha\n",
      "parietal     theta\n",
      "occipital    theta\n",
      "dtype: object\n",
      "\n",
      "        left  frontal  right  central  parietal  occipital\n",
      "delta  58.50    61.15  60.38    64.10     59.21      62.65\n",
      "theta  63.03    66.67  70.52    68.26     67.46      65.87\n",
      "alpha  65.87    62.50  62.03    69.14     62.75      65.85\n"
     ]
    }
   ],
   "source": [
    "# Only use k-NN in case of Valence after CV\n",
    "print_f1('valence', 'knn')"
   ]
  },
  {
   "cell_type": "markdown",
   "id": "4589d3a5",
   "metadata": {},
   "source": [
    "### Arousal"
   ]
  },
  {
   "cell_type": "code",
   "execution_count": 210,
   "id": "3db24326",
   "metadata": {},
   "outputs": [
    {
     "name": "stdout",
     "output_type": "stream",
     "text": [
      "Top 3 EEG regions with highest scores\n",
      "parietal     67.06\n",
      "frontal      66.67\n",
      "occipital    64.55\n",
      "dtype: float64\n",
      "\n",
      "Top 2 bands with highest scores\n",
      "alpha    67.06\n",
      "theta    66.67\n",
      "dtype: float64\n",
      "\n",
      "EEG region with highest scores per each band\n",
      "delta    parietal\n",
      "theta     frontal\n",
      "alpha    parietal\n",
      "dtype: object\n",
      "\n",
      "Band with highest scores per each EEG regions\n",
      "left         theta\n",
      "frontal      theta\n",
      "right        alpha\n",
      "central      theta\n",
      "parietal     alpha\n",
      "occipital    alpha\n",
      "dtype: object\n",
      "\n",
      "        left  frontal  right  central  parietal  occipital\n",
      "delta  60.67    63.91  63.39    63.28     65.88      63.39\n",
      "theta  61.02    66.67  62.70    64.04     66.27      63.83\n",
      "alpha  60.34    64.29  63.44    64.04     67.06      64.55\n"
     ]
    }
   ],
   "source": [
    "# Only use MLP in case of Arousal after CV\n",
    "print_f1('arousal', 'mlp')"
   ]
  },
  {
   "cell_type": "markdown",
   "id": "6e00c48d",
   "metadata": {},
   "source": [
    "## Plot results"
   ]
  },
  {
   "cell_type": "markdown",
   "id": "e4911ab8",
   "metadata": {},
   "source": [
    "### Top combinations for Valence"
   ]
  },
  {
   "cell_type": "code",
   "execution_count": 211,
   "id": "2dfe61e0",
   "metadata": {},
   "outputs": [
    {
     "name": "stdout",
     "output_type": "stream",
     "text": [
      "[[30 28]\n",
      " [25 57]]\n",
      "              precision    recall  f1-score   support\n",
      "\n",
      "           0       0.55      0.52      0.53        58\n",
      "           1       0.67      0.70      0.68        82\n",
      "\n",
      "    accuracy                           0.62       140\n",
      "   macro avg       0.61      0.61      0.61       140\n",
      "weighted avg       0.62      0.62      0.62       140\n",
      "\n"
     ]
    },
    {
     "data": {
      "image/png": "[encoded data removed]",
      "text/plain": [
       "<Figure size 432x288 with 2 Axes>"
      ]
     },
     "metadata": {},
     "output_type": "display_data"
    }
   ],
   "source": [
    "plot_cm('theta', 'central', 'valence', 'knn')"
   ]
  },
  {
   "cell_type": "code",
   "execution_count": 212,
   "id": "189b93f8",
   "metadata": {},
   "outputs": [
    {
     "name": "stdout",
     "output_type": "stream",
     "text": [
      "[[28 30]\n",
      " [27 55]]\n",
      "              precision    recall  f1-score   support\n",
      "\n",
      "           0       0.51      0.48      0.50        58\n",
      "           1       0.65      0.67      0.66        82\n",
      "\n",
      "    accuracy                           0.59       140\n",
      "   macro avg       0.58      0.58      0.58       140\n",
      "weighted avg       0.59      0.59      0.59       140\n",
      "\n"
     ]
    },
    {
     "data": {
      "image/png": "[encoded data removed]",
      "text/plain": [
       "<Figure size 432x288 with 2 Axes>"
      ]
     },
     "metadata": {},
     "output_type": "display_data"
    }
   ],
   "source": [
    "plot_cm('alpha', 'left', 'valence', 'knn')"
   ]
  },
  {
   "cell_type": "code",
   "execution_count": 213,
   "id": "63f8b47f",
   "metadata": {},
   "outputs": [
    {
     "name": "stdout",
     "output_type": "stream",
     "text": [
      "[[29 29]\n",
      " [34 48]]\n",
      "              precision    recall  f1-score   support\n",
      "\n",
      "           0       0.46      0.50      0.48        58\n",
      "           1       0.62      0.59      0.60        82\n",
      "\n",
      "    accuracy                           0.55       140\n",
      "   macro avg       0.54      0.54      0.54       140\n",
      "weighted avg       0.56      0.55      0.55       140\n",
      "\n"
     ]
    },
    {
     "data": {
      "image/png": "[encoded data removed]",
      "text/plain": [
       "<Figure size 432x288 with 2 Axes>"
      ]
     },
     "metadata": {},
     "output_type": "display_data"
    }
   ],
   "source": [
    "plot_cm('delta', 'right', 'valence', 'knn')"
   ]
  },
  {
   "cell_type": "markdown",
   "id": "f0107812",
   "metadata": {},
   "source": [
    "### Top combinations for Arousal"
   ]
  },
  {
   "cell_type": "code",
   "execution_count": 214,
   "id": "4aacdac5",
   "metadata": {},
   "outputs": [
    {
     "name": "stdout",
     "output_type": "stream",
     "text": [
      "[[18 52]\n",
      " [12 58]]\n",
      "              precision    recall  f1-score   support\n",
      "\n",
      "           0       0.60      0.26      0.36        70\n",
      "           1       0.53      0.83      0.64        70\n",
      "\n",
      "    accuracy                           0.54       140\n",
      "   macro avg       0.56      0.54      0.50       140\n",
      "weighted avg       0.56      0.54      0.50       140\n",
      "\n"
     ]
    },
    {
     "data": {
      "image/png": "[encoded data removed]",
      "text/plain": [
       "<Figure size 432x288 with 2 Axes>"
      ]
     },
     "metadata": {},
     "output_type": "display_data"
    }
   ],
   "source": [
    "plot_cm('alpha', 'central', 'arousal', 'mlp')"
   ]
  },
  {
   "cell_type": "code",
   "execution_count": 215,
   "id": "79766e8b",
   "metadata": {},
   "outputs": [
    {
     "name": "stdout",
     "output_type": "stream",
     "text": [
      "[[26 44]\n",
      " [13 57]]\n",
      "              precision    recall  f1-score   support\n",
      "\n",
      "           0       0.67      0.37      0.48        70\n",
      "           1       0.56      0.81      0.67        70\n",
      "\n",
      "    accuracy                           0.59       140\n",
      "   macro avg       0.62      0.59      0.57       140\n",
      "weighted avg       0.62      0.59      0.57       140\n",
      "\n"
     ]
    },
    {
     "data": {
      "image/png": "[encoded data removed]",
      "text/plain": [
       "<Figure size 432x288 with 2 Axes>"
      ]
     },
     "metadata": {},
     "output_type": "display_data"
    }
   ],
   "source": [
    "plot_cm('theta', 'parietal', 'arousal', 'mlp')"
   ]
  },
  {
   "cell_type": "code",
   "execution_count": null,
   "id": "b274754f",
   "metadata": {},
   "outputs": [],
   "source": []
  }
 ],
 "metadata": {
  "kernelspec": {
   "display_name": "Python 3 (ipykernel)",
   "language": "python",
   "name": "python3"
  },
  "language_info": {
   "codemirror_mode": {
    "name": "ipython",
    "version": 3
   },
   "file_extension": ".py",
   "mimetype": "text/x-python",
   "name": "python",
   "nbconvert_exporter": "python",
   "pygments_lexer": "ipython3",
   "version": "3.9.12"
  }
 },
 "nbformat": 4,
 "nbformat_minor": 5
}
